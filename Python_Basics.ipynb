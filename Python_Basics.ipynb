{
  "nbformat": 4,
  "nbformat_minor": 0,
  "metadata": {
    "colab": {
      "provenance": [],
      "authorship_tag": "ABX9TyOu2YNpCFlbxpVv7AWbOLrj",
      "include_colab_link": true
    },
    "kernelspec": {
      "name": "python3",
      "display_name": "Python 3"
    },
    "language_info": {
      "name": "python"
    }
  },
  "cells": [
    {
      "cell_type": "markdown",
      "metadata": {
        "id": "view-in-github",
        "colab_type": "text"
      },
      "source": [
        "<a href=\"https://colab.research.google.com/github/AnshumanMohapatra11121999/Python-Basics/blob/main/Python_Basics.ipynb\" target=\"_parent\"><img src=\"https://colab.research.google.com/assets/colab-badge.svg\" alt=\"Open In Colab\"/></a>"
      ]
    },
    {
      "cell_type": "code",
      "execution_count": null,
      "metadata": {
        "id": "x9qWg6fZ_bpG"
      },
      "outputs": [],
      "source": [
        "#List and their functions\n",
        "#List can store values of multiple data types unlike array\n",
        "#List is mutable.\n",
        "l=[\"Ab\",1,3]\n",
        "print(l)\n",
        "l[2]\n",
        "l.append(0.9)\n",
        "print(l)\n",
        "l.insert(0,-1)\n",
        "print(l)\n",
        "l.remove(-1)\n",
        "print(l)\n",
        "l.count(3)\n",
        "print(l)\n",
        "#Tuple and their function\n",
        "#Tuples are immutable version of List\n",
        "#We cannot change any thing like add,remove after the tuple has been created.\n",
        "#Following are some example of built in fuctions for tuple\n",
        "t1=(\"apple\",\"banana\",\"grapes\",\"Almond\")\n",
        "t2=(\"Car\",\"Cycle\",\"Bike\")\n",
        "#print(cmp(t1,t2))\n",
        "print(len(t1))\n",
        "print(max(t1))\n",
        "print(min(t1))\n",
        "l1=[100,24]\n",
        "\n",
        "#Interchanging and Conversion betweemtuple and list\n",
        "# Tuple to list conversion\n",
        "l1=[100,24]\n",
        "li=list(t2)\n",
        "print(li)\n",
        "# list to Tuple\n",
        "tu=tuple(l1)\n",
        "print(tu)"
      ]
    },
    {
      "cell_type": "code",
      "source": [
        "# Dictionary in Python\n",
        "#Used to store key,value pairs\n",
        "#It is a collection which is ordered,changeable and donot allow duplicates.\n",
        "dict1={\"Fruits\":\"Apple\",\"Grades\":'A+','Marks':90}\n",
        "print(dict1)\n",
        "#Update the value of a particular key\n",
        "dict1.update({\"Marks\":\"100\"})\n",
        "print(dict1)\n",
        "#Add a Key value pair in your dictionary\n",
        "dict1[\"Color\"]=\"Red\"\n",
        "print(dict1)\n",
        "#Remove any pair in the dictionary\n",
        "del dict1[\"Color\"]\n",
        "print(dict1)\n",
        "dict1.pop(\"Grades\")\n",
        "print(dict1)\n",
        "\n"
      ],
      "metadata": {
        "colab": {
          "base_uri": "https://localhost:8080/"
        },
        "id": "LvcUkzSp_jCM",
        "outputId": "b9bf196e-5bff-4fdb-9edc-eb172a1bc892"
      },
      "execution_count": null,
      "outputs": [
        {
          "output_type": "stream",
          "name": "stdout",
          "text": [
            "{'Fruits': 'Apple', 'Grades': 'A+', 'Marks': 90}\n",
            "{'Fruits': 'Apple', 'Grades': 'A+', 'Marks': '100'}\n",
            "{'Fruits': 'Apple', 'Grades': 'A+', 'Marks': '100', 'Color': 'Red'}\n",
            "{'Fruits': 'Apple', 'Grades': 'A+', 'Marks': '100'}\n",
            "{'Fruits': 'Apple', 'Marks': '100'}\n"
          ]
        }
      ]
    },
    {
      "cell_type": "code",
      "source": [
        "#Taking Input in python[Various input methods]\n",
        "age=input(\"How old are you?\")\n",
        "print(type(age))\n"
      ],
      "metadata": {
        "colab": {
          "base_uri": "https://localhost:8080/"
        },
        "id": "aGrSGmw6CkZG",
        "outputId": "a8330240-deb3-4454-854f-1bb23545fac7"
      },
      "execution_count": null,
      "outputs": [
        {
          "output_type": "stream",
          "name": "stdout",
          "text": [
            "How old are you?10\n",
            "<class 'str'>\n"
          ]
        }
      ]
    },
    {
      "cell_type": "code",
      "source": [
        "# Type-Casting in Python\n",
        "x=10\n",
        "y=\"20\"\n",
        "\n",
        "y=int(y)\n",
        "print(x+y)\n",
        "xx=100\n",
        "xx=float(xx)\n",
        "print(xx)\n"
      ],
      "metadata": {
        "colab": {
          "base_uri": "https://localhost:8080/"
        },
        "id": "K5oI0Ih9EHRT",
        "outputId": "1da925ac-76c6-4ebd-892c-d254ff045996"
      },
      "execution_count": null,
      "outputs": [
        {
          "output_type": "stream",
          "name": "stdout",
          "text": [
            "30\n",
            "100.0\n"
          ]
        }
      ]
    },
    {
      "cell_type": "code",
      "source": [
        "#If-else Statement\n",
        "gpa=3\n",
        "if(gpa > 2):\n",
        " print(\"Acquired\")\n",
        "elif(gpa>1.5):\n",
        " print(\"Achieved\")\n",
        "elif(gpa>1):\n",
        " print(\"Barely Achieved\")\n",
        "else:\n",
        " print(\"Not Achieved\")\n"
      ],
      "metadata": {
        "colab": {
          "base_uri": "https://localhost:8080/"
        },
        "id": "9HBKVeAdL9Kb",
        "outputId": "116a3083-c029-4fe0-dc1c-ac630998dd55"
      },
      "execution_count": null,
      "outputs": [
        {
          "output_type": "stream",
          "name": "stdout",
          "text": [
            "Acquired\n"
          ]
        }
      ]
    },
    {
      "cell_type": "code",
      "source": [
        "#Control Statements\n",
        "#It is used to control the orders of execution the program.\n",
        "# There are 3 types Control Statements\n",
        "\n",
        "#1.Continue\n",
        "#2.Break\n",
        "#3.Pass\n",
        "\n",
        "#1.Continue\n",
        "for i in range(1,10):\n",
        "  if (i == 8 ):\n",
        "    continue#(It skips 8 in (1 to 10) and then proceeds)\n",
        "  print(i)\n",
        "\n",
        "#2.Break(It terminates the loop containing it.)\n",
        "for j in range(1,10):\n",
        "  if (j == 8 ):\n",
        "    break#(It breaks loop at 8 in (1 to 10) and then prints upto 7)\n",
        "  print(j)\n",
        "\n",
        "#3.PASS:(Null operation/Place holder)\n",
        "\n",
        "for k in range(1,10):\n",
        "  if (k == 8 ):\n",
        "    pass#(It acts as an null function and does nothing to the order of program execution)\n",
        "  print(k)\n",
        "\n",
        "print(\"Current value of k\",k)\n",
        "\n",
        "\n",
        "\n"
      ],
      "metadata": {
        "colab": {
          "base_uri": "https://localhost:8080/"
        },
        "id": "g9C5UcWnNQrb",
        "outputId": "473f97ea-8c35-4f87-d3b5-e0aa2bd6023c"
      },
      "execution_count": null,
      "outputs": [
        {
          "output_type": "stream",
          "name": "stdout",
          "text": [
            "1\n",
            "2\n",
            "3\n",
            "4\n",
            "5\n",
            "6\n",
            "7\n",
            "9\n",
            "1\n",
            "2\n",
            "3\n",
            "4\n",
            "5\n",
            "6\n",
            "7\n",
            "1\n",
            "2\n",
            "3\n",
            "4\n",
            "5\n",
            "6\n",
            "7\n",
            "8\n",
            "9\n",
            "Current value of k 9\n"
          ]
        }
      ]
    },
    {
      "cell_type": "code",
      "source": [
        "#LOOPS_IN_PYTHON\n",
        "#1.FOR-LOOP(arguments(start,stop,step))\n",
        "for i in range(1,10):\n",
        " print(\"The square of \",i,\" is:\",i*i)\n",
        "for j in range(1,10,2):\n",
        " print(\"The square of \",j,\" is:\",j*j)\n",
        "#Reverse for-loop\n",
        "for k in range(10,1,-1):\n",
        " print(\"The square of \",k,\" is:\",k*k)"
      ],
      "metadata": {
        "colab": {
          "base_uri": "https://localhost:8080/"
        },
        "id": "S3RSbQfUR54L",
        "outputId": "384fe2b5-5548-476c-c1ce-1659251caadd"
      },
      "execution_count": null,
      "outputs": [
        {
          "output_type": "stream",
          "name": "stdout",
          "text": [
            "The square of  1  is: 1\n",
            "The square of  2  is: 4\n",
            "The square of  3  is: 9\n",
            "The square of  4  is: 16\n",
            "The square of  5  is: 25\n",
            "The square of  6  is: 36\n",
            "The square of  7  is: 49\n",
            "The square of  8  is: 64\n",
            "The square of  9  is: 81\n",
            "The square of  1  is: 1\n",
            "The square of  3  is: 9\n",
            "The square of  5  is: 25\n",
            "The square of  7  is: 49\n",
            "The square of  9  is: 81\n",
            "The square of  10  is: 100\n",
            "The square of  9  is: 81\n",
            "The square of  8  is: 64\n",
            "The square of  7  is: 49\n",
            "The square of  6  is: 36\n",
            "The square of  5  is: 25\n",
            "The square of  4  is: 16\n",
            "The square of  3  is: 9\n",
            "The square of  2  is: 4\n"
          ]
        }
      ]
    },
    {
      "cell_type": "code",
      "source": [
        "#2 While-Loop\n",
        "num = 1\n",
        "while(num < 200):\n",
        "  print(num)\n",
        "  num = num * 2"
      ],
      "metadata": {
        "colab": {
          "base_uri": "https://localhost:8080/"
        },
        "id": "hkCPCU7OZUay",
        "outputId": "ab27140b-f500-45f9-ea58-a45c84dc4c01"
      },
      "execution_count": null,
      "outputs": [
        {
          "output_type": "stream",
          "name": "stdout",
          "text": [
            "1\n",
            "2\n",
            "4\n",
            "8\n",
            "16\n",
            "32\n",
            "64\n",
            "128\n"
          ]
        }
      ]
    },
    {
      "cell_type": "code",
      "source": [
        "#Python_Functions\n",
        "def myfunc():\n",
        "  print(\"Hello world!!!\")\n",
        "  print(\"Python Python\")\n",
        "\n",
        "myfunc()\n",
        "#Parametrized function\n",
        "def myfun(fname,lname):\n",
        "  print(\"Your first name:\",fname)\n",
        "  print(\"Your Last name:\",lname)\n",
        "\n",
        "myfun(\"Anshuman\",\"Mohapatra\")\n",
        "\n",
        "#Functions having return values\n",
        "def myfunct(x):\n",
        "  return 5*x\n",
        "\n",
        "print(myfunct(2))\n",
        "\n",
        "#Passing list as argument in a function\n",
        "def myfunclist(food):\n",
        "  for x in food:\n",
        "    print(x)\n",
        "fruits=[\"Apple\",\"Orange\",\"Peach\",\"Avacado\"]\n",
        "\n",
        "myfunclist(fruits)\n",
        "\n",
        "\n",
        "\n"
      ],
      "metadata": {
        "colab": {
          "base_uri": "https://localhost:8080/"
        },
        "id": "xUWW_qkRaLZK",
        "outputId": "0778c3a1-b377-4517-fb28-5aadcec2beae"
      },
      "execution_count": null,
      "outputs": [
        {
          "output_type": "stream",
          "name": "stdout",
          "text": [
            "Hello world!!!\n",
            "Python Python\n",
            "Your first name: Anshuman\n",
            "Your Last name: Mohapatra\n",
            "10\n",
            "Apple\n",
            "Orange\n",
            "Peach\n",
            "Avacado\n"
          ]
        }
      ]
    },
    {
      "cell_type": "code",
      "source": [
        "#Error Handling in Python:\n",
        "#There are generally 2 types of errors in python\n",
        "#1.Syntax error (Caused by wrong syntax in the code(No colon after for loop))\n",
        "#2.Exceptions (It occures when the program is syntax wise correct but still doesnot produces desired result and interrupts the flow of program(Ex divide by zero error) )\n"
      ],
      "metadata": {
        "id": "MPW7Fp9zKOg6"
      },
      "execution_count": null,
      "outputs": []
    },
    {
      "cell_type": "code",
      "source": [
        "#Error Handling Part 2 (Using Try and Except block)\n",
        "#The Try block lets you test a block of code for errors.\n",
        "#The except block lets you handle the error.\n",
        "#Simple example\n",
        "try:\n",
        "  print(x)\n",
        "except:\n",
        "  print(\"x is not defined\")\n",
        "\n",
        "#Example 2\n",
        "a=[1,2,3,4,5]\n",
        "try:\n",
        "  print(a[0])\n",
        "  print(a[1])\n",
        "  print(a[8])#But 8th element is not present in the list\n",
        "except:\n",
        "  print(\"An Unhandled error occured\")\n",
        "\n",
        "#The output will produce the statement in the except block where there is error in the Try block.\n"
      ],
      "metadata": {
        "colab": {
          "base_uri": "https://localhost:8080/"
        },
        "id": "vuMQg3gxOJn6",
        "outputId": "ffd5bf96-529d-4dd3-ef2e-1796c42ef50d"
      },
      "execution_count": null,
      "outputs": [
        {
          "output_type": "stream",
          "name": "stdout",
          "text": [
            "x is not defined\n",
            "1\n",
            "2\n",
            "An Unhandled error occured\n"
          ]
        }
      ]
    },
    {
      "cell_type": "code",
      "source": [
        "#Multiple exception in Try & Except block\n",
        "try:\n",
        "  x=5/0\n",
        "  print(x)\n",
        "  print(k)\n",
        "except NameError:\n",
        "  print(\"X is not defined yet.\")\n",
        "except ZeroDivisionError:\n",
        "  print(\"Zero division error\")\n"
      ],
      "metadata": {
        "colab": {
          "base_uri": "https://localhost:8080/"
        },
        "id": "WQgJRW7jP3tv",
        "outputId": "22b809a1-0430-46dd-9b46-47d301f39197"
      },
      "execution_count": null,
      "outputs": [
        {
          "output_type": "stream",
          "name": "stdout",
          "text": [
            "Zero division error\n"
          ]
        }
      ]
    },
    {
      "cell_type": "code",
      "source": [
        "#Else block in Error Handling\n",
        "#Else block can be used to define a block of code which can be executed if no errors were raised.\n",
        "\n",
        "m=10;\n",
        "try:\n",
        "  print(m)\n",
        "except NameError:\n",
        "  print(\"X is not defined\")\n",
        "else:\n",
        "  print(\"Nothing happend\")\n"
      ],
      "metadata": {
        "colab": {
          "base_uri": "https://localhost:8080/"
        },
        "id": "Tgi1f9iYRY1Z",
        "outputId": "fe5429b7-93df-454a-e136-c62418415f80"
      },
      "execution_count": null,
      "outputs": [
        {
          "output_type": "stream",
          "name": "stdout",
          "text": [
            "10\n",
            "Nothing happend\n"
          ]
        }
      ]
    },
    {
      "cell_type": "code",
      "source": [
        "#Finally keyword used in Error handling using Try and Except block.\n",
        "#The condition attached to finally will execute irrespctive of the fact that error is raised or not.\n",
        "#The condition will be executed regardless if the try block raises an error or not.\n",
        "try:\n",
        "  print(n)\n",
        "except NameError:\n",
        "  print(\"n is not defined\")\n",
        "else:\n",
        "  print(\"Nothing happend\")\n",
        "finally:\n",
        "  print(\"Exception does not matter in my case.\")"
      ],
      "metadata": {
        "colab": {
          "base_uri": "https://localhost:8080/"
        },
        "id": "XO-SRWPRSbHY",
        "outputId": "51ead5e8-df79-4854-f6dd-b08d6bc2d9e5"
      },
      "execution_count": null,
      "outputs": [
        {
          "output_type": "stream",
          "name": "stdout",
          "text": [
            "n is not defined\n",
            "Exception does not matter in my case\n"
          ]
        }
      ]
    },
    {
      "cell_type": "code",
      "source": [
        "#Raise Keyword in Exception and Error Handling.\n",
        "#Raise keyword is used to create your own user defined Exception.\n",
        "#Example 1\n",
        "x=-1\n",
        "if(x<0):\n",
        "  raise Exception(\"Sorry! Number is below zero\")\n",
        "\n",
        "  #Output:Exception: Sorry! Number is below zero\n",
        "\n",
        "#Example 2:\n",
        "y=\"Sono Sharingan\"\n",
        "if not type(y) is int:\n",
        "  raise Exception(\"Only Integers are Allowed\")\n",
        "\n",
        "  #Output:Exception:Only Integers are Allowed"
      ],
      "metadata": {
        "colab": {
          "base_uri": "https://localhost:8080/",
          "height": 252
        },
        "id": "SvLUlF9rTjGP",
        "outputId": "e12044f6-a86e-4551-e32b-64b2a0fc266b"
      },
      "execution_count": null,
      "outputs": [
        {
          "output_type": "error",
          "ename": "Exception",
          "evalue": "ignored",
          "traceback": [
            "\u001b[0;31m---------------------------------------------------------------------------\u001b[0m",
            "\u001b[0;31mException\u001b[0m                                 Traceback (most recent call last)",
            "\u001b[0;32m<ipython-input-19-57bf7234056a>\u001b[0m in \u001b[0;36m<cell line: 10>\u001b[0;34m()\u001b[0m\n\u001b[1;32m      9\u001b[0m \u001b[0my\u001b[0m\u001b[0;34m=\u001b[0m\u001b[0;34m\"Sono Sharingan\"\u001b[0m\u001b[0;34m\u001b[0m\u001b[0;34m\u001b[0m\u001b[0m\n\u001b[1;32m     10\u001b[0m \u001b[0;32mif\u001b[0m \u001b[0;32mnot\u001b[0m \u001b[0mtype\u001b[0m\u001b[0;34m(\u001b[0m\u001b[0my\u001b[0m\u001b[0;34m)\u001b[0m \u001b[0;32mis\u001b[0m \u001b[0mint\u001b[0m\u001b[0;34m:\u001b[0m\u001b[0;34m\u001b[0m\u001b[0;34m\u001b[0m\u001b[0m\n\u001b[0;32m---> 11\u001b[0;31m   \u001b[0;32mraise\u001b[0m \u001b[0mException\u001b[0m\u001b[0;34m(\u001b[0m\u001b[0;34m\"Only Integers are Allowed\"\u001b[0m\u001b[0;34m)\u001b[0m\u001b[0;34m\u001b[0m\u001b[0;34m\u001b[0m\u001b[0m\n\u001b[0m\u001b[1;32m     12\u001b[0m \u001b[0;34m\u001b[0m\u001b[0m\n\u001b[1;32m     13\u001b[0m   \u001b[0;31m#Output:Exception: Sorry! Number is below zero\u001b[0m\u001b[0;34m\u001b[0m\u001b[0;34m\u001b[0m\u001b[0m\n",
            "\u001b[0;31mException\u001b[0m: Only Integers are Allowed"
          ]
        }
      ]
    },
    {
      "cell_type": "code",
      "source": [],
      "metadata": {
        "colab": {
          "base_uri": "https://localhost:8080/",
          "height": 252
        },
        "id": "Upfhg4VbVLzI",
        "outputId": "15489199-9a40-442a-d2fb-93b7825a94c6"
      },
      "execution_count": null,
      "outputs": [
        {
          "output_type": "error",
          "ename": "Exception",
          "evalue": "ignored",
          "traceback": [
            "\u001b[0;31m---------------------------------------------------------------------------\u001b[0m",
            "\u001b[0;31mException\u001b[0m                                 Traceback (most recent call last)",
            "\u001b[0;32m<ipython-input-20-eb8c3b7d77c2>\u001b[0m in \u001b[0;36m<cell line: 3>\u001b[0;34m()\u001b[0m\n\u001b[1;32m      2\u001b[0m \u001b[0my\u001b[0m\u001b[0;34m=\u001b[0m\u001b[0;34m\"Sono Sharingan\"\u001b[0m\u001b[0;34m\u001b[0m\u001b[0;34m\u001b[0m\u001b[0m\n\u001b[1;32m      3\u001b[0m \u001b[0;32mif\u001b[0m \u001b[0;32mnot\u001b[0m \u001b[0mtype\u001b[0m\u001b[0;34m(\u001b[0m\u001b[0my\u001b[0m\u001b[0;34m)\u001b[0m \u001b[0;32mis\u001b[0m \u001b[0mint\u001b[0m\u001b[0;34m:\u001b[0m\u001b[0;34m\u001b[0m\u001b[0;34m\u001b[0m\u001b[0m\n\u001b[0;32m----> 4\u001b[0;31m   \u001b[0;32mraise\u001b[0m \u001b[0mException\u001b[0m\u001b[0;34m(\u001b[0m\u001b[0;34m\"Only Integers are Allowed\"\u001b[0m\u001b[0;34m)\u001b[0m\u001b[0;34m\u001b[0m\u001b[0;34m\u001b[0m\u001b[0m\n\u001b[0m\u001b[1;32m      5\u001b[0m \u001b[0;34m\u001b[0m\u001b[0m\n\u001b[1;32m      6\u001b[0m   \u001b[0;31m#Output:Exception:Only Integers are Allowed\u001b[0m\u001b[0;34m\u001b[0m\u001b[0;34m\u001b[0m\u001b[0m\n",
            "\u001b[0;31mException\u001b[0m: Only Integers are Allowed"
          ]
        }
      ]
    }
  ]
}